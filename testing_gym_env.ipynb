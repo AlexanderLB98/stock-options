{
 "cells": [
  {
   "cell_type": "markdown",
   "id": "1480097c",
   "metadata": {},
   "source": [
    "# Gym ENv\n",
    "https://gym-trading-env.readthedocs.io/en/latest/"
   ]
  },
  {
   "cell_type": "code",
   "execution_count": 1,
   "id": "03be0c49",
   "metadata": {},
   "outputs": [],
   "source": [
    "#import gym_trading_env"
   ]
  },
  {
   "cell_type": "markdown",
   "id": "9526cfea",
   "metadata": {},
   "source": [
    "## Tutorial\n",
    "https://gym-trading-env.readthedocs.io/en/latest/rl_tutorial.html"
   ]
  },
  {
   "cell_type": "markdown",
   "id": "4c7c2d99",
   "metadata": {},
   "source": [
    "### Market data"
   ]
  },
  {
   "cell_type": "code",
   "execution_count": 2,
   "id": "e41e6feb",
   "metadata": {},
   "outputs": [],
   "source": [
    "import pandas as pd\n",
    "# Available in the github repo : examples/data/BTC_USD-Hourly.csv\n",
    "url = \"https://raw.githubusercontent.com/ClementPerroud/Gym-Trading-Env/main/examples/data/BTC_USD-Hourly.csv\"\n",
    "df = pd.read_csv(url, parse_dates=[\"date\"], index_col= \"date\")\n",
    "df.sort_index(inplace= True)\n",
    "df.dropna(inplace= True)\n",
    "df.drop_duplicates(inplace=True)"
   ]
  },
  {
   "cell_type": "code",
   "execution_count": 3,
   "id": "9a00ddc3",
   "metadata": {},
   "outputs": [],
   "source": [
    "#from gym_trading_env.downloader import download\n",
    "import datetime\n",
    "import pandas as pd\n",
    "\n",
    "# Download BTC/USDT historical data from Binance and stores it to directory ./data/binance-BTCUSDT-1h.pkl\n",
    "if False:\n",
    "    download(exchange_names = [\"binance\"],\n",
    "        symbols= [\"BTC/USDT\"],\n",
    "        timeframe= \"1h\",\n",
    "        dir = \"data\",\n",
    "        since= datetime.datetime(year= 2020, month= 1, day=1),\n",
    "    )\n",
    "    # Import your fresh data\n",
    "    df = pd.read_pickle(\"./data/binance-BTCUSDT-1h.pkl\")"
   ]
  },
  {
   "cell_type": "code",
   "execution_count": 4,
   "id": "42f74599",
   "metadata": {},
   "outputs": [
    {
     "data": {
      "text/html": [
       "<div>\n",
       "<style scoped>\n",
       "    .dataframe tbody tr th:only-of-type {\n",
       "        vertical-align: middle;\n",
       "    }\n",
       "\n",
       "    .dataframe tbody tr th {\n",
       "        vertical-align: top;\n",
       "    }\n",
       "\n",
       "    .dataframe thead th {\n",
       "        text-align: right;\n",
       "    }\n",
       "</style>\n",
       "<table border=\"1\" class=\"dataframe\">\n",
       "  <thead>\n",
       "    <tr style=\"text-align: right;\">\n",
       "      <th></th>\n",
       "      <th>unix</th>\n",
       "      <th>symbol</th>\n",
       "      <th>open</th>\n",
       "      <th>high</th>\n",
       "      <th>low</th>\n",
       "      <th>close</th>\n",
       "      <th>volume</th>\n",
       "      <th>Volume USD</th>\n",
       "    </tr>\n",
       "    <tr>\n",
       "      <th>date</th>\n",
       "      <th></th>\n",
       "      <th></th>\n",
       "      <th></th>\n",
       "      <th></th>\n",
       "      <th></th>\n",
       "      <th></th>\n",
       "      <th></th>\n",
       "      <th></th>\n",
       "    </tr>\n",
       "  </thead>\n",
       "  <tbody>\n",
       "    <tr>\n",
       "      <th>2018-05-15 06:00:00</th>\n",
       "      <td>1526364000</td>\n",
       "      <td>BTC/USD</td>\n",
       "      <td>8733.86</td>\n",
       "      <td>8796.68</td>\n",
       "      <td>8707.28</td>\n",
       "      <td>8740.99</td>\n",
       "      <td>4.906603e+06</td>\n",
       "      <td>5.599300e+02</td>\n",
       "    </tr>\n",
       "    <tr>\n",
       "      <th>2018-05-15 07:00:00</th>\n",
       "      <td>1526367600</td>\n",
       "      <td>BTC/USD</td>\n",
       "      <td>8740.99</td>\n",
       "      <td>8766.00</td>\n",
       "      <td>8721.11</td>\n",
       "      <td>8739.00</td>\n",
       "      <td>2.390399e+06</td>\n",
       "      <td>2.735800e+02</td>\n",
       "    </tr>\n",
       "    <tr>\n",
       "      <th>2018-05-15 08:00:00</th>\n",
       "      <td>1526371200</td>\n",
       "      <td>BTC/USD</td>\n",
       "      <td>8739.00</td>\n",
       "      <td>8750.27</td>\n",
       "      <td>8660.53</td>\n",
       "      <td>8728.49</td>\n",
       "      <td>7.986063e+06</td>\n",
       "      <td>9.177900e+02</td>\n",
       "    </tr>\n",
       "    <tr>\n",
       "      <th>2018-05-15 09:00:00</th>\n",
       "      <td>1526374800</td>\n",
       "      <td>BTC/USD</td>\n",
       "      <td>8728.49</td>\n",
       "      <td>8754.40</td>\n",
       "      <td>8701.35</td>\n",
       "      <td>8708.32</td>\n",
       "      <td>1.593992e+06</td>\n",
       "      <td>1.826200e+02</td>\n",
       "    </tr>\n",
       "    <tr>\n",
       "      <th>2018-05-15 10:00:00</th>\n",
       "      <td>1526378400</td>\n",
       "      <td>BTC/USD</td>\n",
       "      <td>8708.32</td>\n",
       "      <td>8865.00</td>\n",
       "      <td>8695.11</td>\n",
       "      <td>8795.90</td>\n",
       "      <td>1.110127e+07</td>\n",
       "      <td>1.260690e+03</td>\n",
       "    </tr>\n",
       "    <tr>\n",
       "      <th>...</th>\n",
       "      <td>...</td>\n",
       "      <td>...</td>\n",
       "      <td>...</td>\n",
       "      <td>...</td>\n",
       "      <td>...</td>\n",
       "      <td>...</td>\n",
       "      <td>...</td>\n",
       "      <td>...</td>\n",
       "    </tr>\n",
       "    <tr>\n",
       "      <th>2022-02-28 20:00:00</th>\n",
       "      <td>1646078400</td>\n",
       "      <td>BTC/USD</td>\n",
       "      <td>41361.99</td>\n",
       "      <td>41971.00</td>\n",
       "      <td>41284.11</td>\n",
       "      <td>41914.97</td>\n",
       "      <td>2.471517e+02</td>\n",
       "      <td>1.035935e+07</td>\n",
       "    </tr>\n",
       "    <tr>\n",
       "      <th>2022-02-28 21:00:00</th>\n",
       "      <td>1646082000</td>\n",
       "      <td>BTC/USD</td>\n",
       "      <td>41917.09</td>\n",
       "      <td>41917.09</td>\n",
       "      <td>41542.60</td>\n",
       "      <td>41659.53</td>\n",
       "      <td>6.975168e+01</td>\n",
       "      <td>2.905822e+06</td>\n",
       "    </tr>\n",
       "    <tr>\n",
       "      <th>2022-02-28 22:00:00</th>\n",
       "      <td>1646085600</td>\n",
       "      <td>BTC/USD</td>\n",
       "      <td>41657.23</td>\n",
       "      <td>44256.08</td>\n",
       "      <td>41650.29</td>\n",
       "      <td>42907.32</td>\n",
       "      <td>5.275406e+02</td>\n",
       "      <td>2.263535e+07</td>\n",
       "    </tr>\n",
       "    <tr>\n",
       "      <th>2022-02-28 23:00:00</th>\n",
       "      <td>1646089200</td>\n",
       "      <td>BTC/USD</td>\n",
       "      <td>43085.30</td>\n",
       "      <td>43364.81</td>\n",
       "      <td>42892.37</td>\n",
       "      <td>43178.98</td>\n",
       "      <td>1.068161e+02</td>\n",
       "      <td>4.612210e+06</td>\n",
       "    </tr>\n",
       "    <tr>\n",
       "      <th>2022-03-01 00:00:00</th>\n",
       "      <td>1646092800</td>\n",
       "      <td>BTC/USD</td>\n",
       "      <td>43221.71</td>\n",
       "      <td>43626.49</td>\n",
       "      <td>43185.48</td>\n",
       "      <td>43312.27</td>\n",
       "      <td>5.205632e+01</td>\n",
       "      <td>2.254677e+06</td>\n",
       "    </tr>\n",
       "  </tbody>\n",
       "</table>\n",
       "<p>33259 rows × 8 columns</p>\n",
       "</div>"
      ],
      "text/plain": [
       "                           unix   symbol      open      high       low  \\\n",
       "date                                                                     \n",
       "2018-05-15 06:00:00  1526364000  BTC/USD   8733.86   8796.68   8707.28   \n",
       "2018-05-15 07:00:00  1526367600  BTC/USD   8740.99   8766.00   8721.11   \n",
       "2018-05-15 08:00:00  1526371200  BTC/USD   8739.00   8750.27   8660.53   \n",
       "2018-05-15 09:00:00  1526374800  BTC/USD   8728.49   8754.40   8701.35   \n",
       "2018-05-15 10:00:00  1526378400  BTC/USD   8708.32   8865.00   8695.11   \n",
       "...                         ...      ...       ...       ...       ...   \n",
       "2022-02-28 20:00:00  1646078400  BTC/USD  41361.99  41971.00  41284.11   \n",
       "2022-02-28 21:00:00  1646082000  BTC/USD  41917.09  41917.09  41542.60   \n",
       "2022-02-28 22:00:00  1646085600  BTC/USD  41657.23  44256.08  41650.29   \n",
       "2022-02-28 23:00:00  1646089200  BTC/USD  43085.30  43364.81  42892.37   \n",
       "2022-03-01 00:00:00  1646092800  BTC/USD  43221.71  43626.49  43185.48   \n",
       "\n",
       "                        close        volume    Volume USD  \n",
       "date                                                       \n",
       "2018-05-15 06:00:00   8740.99  4.906603e+06  5.599300e+02  \n",
       "2018-05-15 07:00:00   8739.00  2.390399e+06  2.735800e+02  \n",
       "2018-05-15 08:00:00   8728.49  7.986063e+06  9.177900e+02  \n",
       "2018-05-15 09:00:00   8708.32  1.593992e+06  1.826200e+02  \n",
       "2018-05-15 10:00:00   8795.90  1.110127e+07  1.260690e+03  \n",
       "...                       ...           ...           ...  \n",
       "2022-02-28 20:00:00  41914.97  2.471517e+02  1.035935e+07  \n",
       "2022-02-28 21:00:00  41659.53  6.975168e+01  2.905822e+06  \n",
       "2022-02-28 22:00:00  42907.32  5.275406e+02  2.263535e+07  \n",
       "2022-02-28 23:00:00  43178.98  1.068161e+02  4.612210e+06  \n",
       "2022-03-01 00:00:00  43312.27  5.205632e+01  2.254677e+06  \n",
       "\n",
       "[33259 rows x 8 columns]"
      ]
     },
     "execution_count": 4,
     "metadata": {},
     "output_type": "execute_result"
    }
   ],
   "source": [
    "df"
   ]
  },
  {
   "cell_type": "markdown",
   "id": "2316700d",
   "metadata": {},
   "source": [
    "### Create Features\n",
    "Your RL-agent will need inputs. It is your job to make sure it has everything it needs.\n",
    "The environment will recognize as inputs every column that contains the keyword ‘feature’ in its name."
   ]
  },
  {
   "cell_type": "code",
   "execution_count": 5,
   "id": "fd503b4c",
   "metadata": {},
   "outputs": [],
   "source": [
    "# df is a DataFrame with columns : \"open\", \"high\", \"low\", \"close\", \"Volume USD\"\n",
    "\n",
    "# Create the feature : ( close[t] - close[t-1] )/ close[t-1]\n",
    "df[\"feature_close\"] = df[\"close\"].pct_change()\n",
    "\n",
    "# Create the feature : open[t] / close[t]\n",
    "df[\"feature_open\"] = df[\"open\"]/df[\"close\"]\n",
    "\n",
    "# Create the feature : high[t] / close[t]\n",
    "df[\"feature_high\"] = df[\"high\"]/df[\"close\"]\n",
    "\n",
    "# Create the feature : low[t] / close[t]\n",
    "df[\"feature_low\"] = df[\"low\"]/df[\"close\"]\n",
    "\n",
    " # Create the feature : volume[t] / max(*volume[t-7*24:t+1])\n",
    "df[\"feature_volume\"] = df[\"Volume USD\"] / df[\"Volume USD\"].rolling(7*24).max()\n",
    "\n",
    "df.dropna(inplace= True) # Clean again !\n",
    "# Eatch step, the environment will return 5 inputs  : \"feature_close\", \"feature_open\", \"feature_high\", \"feature_low\", \"feature_volume\""
   ]
  },
  {
   "cell_type": "markdown",
   "id": "4468b2d3",
   "metadata": {},
   "source": [
    "\n",
    "\n",
    "What is presented above are features called static features. Indeed, there are computed once before being used in the environement. But you also use dynamic features that are computed at each step of the environment. By default, the environment add 2 dynamics features. More information in the Feature page."
   ]
  },
  {
   "cell_type": "markdown",
   "id": "875faaba",
   "metadata": {},
   "source": [
    "### Create the environment\n"
   ]
  },
  {
   "cell_type": "code",
   "execution_count": 6,
   "id": "bd5614b4",
   "metadata": {},
   "outputs": [],
   "source": [
    "import gymnasium as gym\n",
    "#import gym_trading_env\n",
    "# env = gym.make(\"TradingEnv\",\n",
    "#         name= \"BTCUSD\",\n",
    "#         df = df, # Your dataset with your custom features\n",
    "#         positions = [ -1, 0, 1], # -1 (=SHORT), 0(=OUT), +1 (=LONG)\n",
    "#         trading_fees = 0.01/100, # 0.01% per stock buy / sell (Binance fees)\n",
    "#         borrow_interest_rate= 0.0003/100, # 0.0003% per timestep (one timestep = 1h here)\n",
    "#     )"
   ]
  },
  {
   "cell_type": "code",
   "execution_count": 7,
   "id": "f9254ba1",
   "metadata": {},
   "outputs": [],
   "source": [
    "from src.gym_trading_env.environments import TradingEnv\n",
    "\n",
    "env = TradingEnv(\n",
    "        name= \"BTCUSD\",\n",
    "        df = df, # Your dataset with your custom features\n",
    "        positions = [ -1, 0, 1], # -1 (=SHORT), 0(=OUT), +1 (=LONG)\n",
    "        trading_fees = 0.01/100, # 0.01% per stock buy / sell (Binance fees)\n",
    "        borrow_interest_rate= 0.0003/100, # 0.0003% per timestep (one timestep = 1h here)\n",
    "    )"
   ]
  },
  {
   "cell_type": "markdown",
   "id": "149379be",
   "metadata": {},
   "source": [
    "### Run the environment"
   ]
  },
  {
   "cell_type": "code",
   "execution_count": 14,
   "id": "c28c36c8",
   "metadata": {},
   "outputs": [
    {
     "name": "stdout",
     "output_type": "stream",
     "text": [
      "Market Return : 423.10%   |   Portfolio Return : -88.62%   |   \n"
     ]
    }
   ],
   "source": [
    "# Run an episode until it ends :\n",
    "done, truncated = False, False\n",
    "observation, info = env.reset()\n",
    "while not done and not truncated:\n",
    "    # Pick a position by its index in your position list (=[-1, 0, 1])....usually something like : position_index = your_policy(observation)\n",
    "    position_index = env.action_space.sample() # At every timestep, pick a random position index from your position list (=[-1, 0, 1])\n",
    "    observation, reward, done, truncated, info = env.step(position_index)\n",
    "    # print(position_index)\n",
    "    # To render\n",
    "    if done:\n",
    "        print(env.options)\n",
    "        # At the end of the episode you want to render\n",
    "        env.save_for_render(dir = \"render_logs\")\n",
    "        "
   ]
  },
  {
   "cell_type": "code",
   "execution_count": 12,
   "id": "63f54ce5",
   "metadata": {},
   "outputs": [
    {
     "data": {
      "text/html": [
       "<div><style>\n",
       ".dataframe > thead > tr,\n",
       ".dataframe > tbody > tr {\n",
       "  text-align: right;\n",
       "  white-space: pre-wrap;\n",
       "}\n",
       "</style>\n",
       "<small>shape: (0, 0)</small><table border=\"1\" class=\"dataframe\"><thead><tr></tr><tr></tr></thead><tbody></tbody></table></div>"
      ],
      "text/plain": [
       "shape: (0, 0)\n",
       "┌┐\n",
       "╞╡\n",
       "└┘"
      ]
     },
     "execution_count": 12,
     "metadata": {},
     "output_type": "execute_result"
    }
   ],
   "source": [
    "env.options"
   ]
  },
  {
   "cell_type": "code",
   "execution_count": 10,
   "id": "e57f7dec",
   "metadata": {},
   "outputs": [
    {
     "ename": "UserWarning",
     "evalue": "\u001b[33mWARN: Overriding environment TradingEnv already in registry.\u001b[0m",
     "output_type": "error",
     "traceback": [
      "\u001b[31m---------------------------------------------------------------------------\u001b[39m",
      "\u001b[31mUserWarning\u001b[39m                               Traceback (most recent call last)",
      "\u001b[36mCell\u001b[39m\u001b[36m \u001b[39m\u001b[32mIn[10]\u001b[39m\u001b[32m, line 1\u001b[39m\n\u001b[32m----> \u001b[39m\u001b[32m1\u001b[39m \u001b[38;5;28;01mfrom\u001b[39;00m\u001b[38;5;250m \u001b[39m\u001b[34;01mgym_trading_env\u001b[39;00m\u001b[34;01m.\u001b[39;00m\u001b[34;01mrenderer\u001b[39;00m\u001b[38;5;250m \u001b[39m\u001b[38;5;28;01mimport\u001b[39;00m Renderer\n\u001b[32m      2\u001b[39m renderer = Renderer(render_logs_dir=\u001b[33m\"\u001b[39m\u001b[33mrender_logs\u001b[39m\u001b[33m\"\u001b[39m)\n\u001b[32m      3\u001b[39m renderer.run()\n",
      "\u001b[36mFile \u001b[39m\u001b[32m~/miniconda3/envs/tfm/lib/python3.13/site-packages/gym_trading_env/__init__.py:3\u001b[39m\n\u001b[32m      1\u001b[39m \u001b[38;5;28;01mfrom\u001b[39;00m\u001b[38;5;250m \u001b[39m\u001b[34;01mgymnasium\u001b[39;00m\u001b[34;01m.\u001b[39;00m\u001b[34;01menvs\u001b[39;00m\u001b[34;01m.\u001b[39;00m\u001b[34;01mregistration\u001b[39;00m\u001b[38;5;250m \u001b[39m\u001b[38;5;28;01mimport\u001b[39;00m register\n\u001b[32m----> \u001b[39m\u001b[32m3\u001b[39m \u001b[43mregister\u001b[49m\u001b[43m(\u001b[49m\n\u001b[32m      4\u001b[39m \u001b[43m    \u001b[49m\u001b[38;5;28;43mid\u001b[39;49m\u001b[43m=\u001b[49m\u001b[33;43m'\u001b[39;49m\u001b[33;43mTradingEnv\u001b[39;49m\u001b[33;43m'\u001b[39;49m\u001b[43m,\u001b[49m\n\u001b[32m      5\u001b[39m \u001b[43m    \u001b[49m\u001b[43mentry_point\u001b[49m\u001b[43m=\u001b[49m\u001b[33;43m'\u001b[39;49m\u001b[33;43mgym_trading_env.environments:TradingEnv\u001b[39;49m\u001b[33;43m'\u001b[39;49m\u001b[43m,\u001b[49m\n\u001b[32m      6\u001b[39m \u001b[43m    \u001b[49m\u001b[43mdisable_env_checker\u001b[49m\u001b[43m \u001b[49m\u001b[43m=\u001b[49m\u001b[43m \u001b[49m\u001b[38;5;28;43;01mTrue\u001b[39;49;00m\u001b[43m,\u001b[49m\n\u001b[32m      7\u001b[39m \u001b[43m    \u001b[49m\u001b[43morder_enforce\u001b[49m\u001b[43m=\u001b[49m\u001b[43m \u001b[49m\u001b[38;5;28;43;01mFalse\u001b[39;49;00m\n\u001b[32m      8\u001b[39m \u001b[43m)\u001b[49m\n\u001b[32m      9\u001b[39m register(\n\u001b[32m     10\u001b[39m     \u001b[38;5;28mid\u001b[39m=\u001b[33m'\u001b[39m\u001b[33mMultiDatasetTradingEnv\u001b[39m\u001b[33m'\u001b[39m,\n\u001b[32m     11\u001b[39m     entry_point=\u001b[33m'\u001b[39m\u001b[33mgym_trading_env.environments:MultiDatasetTradingEnv\u001b[39m\u001b[33m'\u001b[39m,\n\u001b[32m     12\u001b[39m     disable_env_checker = \u001b[38;5;28;01mTrue\u001b[39;00m,\n\u001b[32m     13\u001b[39m     order_enforce= \u001b[38;5;28;01mFalse\u001b[39;00m\n\u001b[32m     14\u001b[39m )\n",
      "\u001b[36mFile \u001b[39m\u001b[32m~/miniconda3/envs/tfm/lib/python3.13/site-packages/gymnasium/envs/registration.py:636\u001b[39m, in \u001b[36mregister\u001b[39m\u001b[34m(id, entry_point, reward_threshold, nondeterministic, max_episode_steps, order_enforce, disable_env_checker, additional_wrappers, vector_entry_point, kwargs)\u001b[39m\n\u001b[32m    633\u001b[39m _check_spec_register(new_spec)\n\u001b[32m    635\u001b[39m \u001b[38;5;28;01mif\u001b[39;00m new_spec.id \u001b[38;5;129;01min\u001b[39;00m registry:\n\u001b[32m--> \u001b[39m\u001b[32m636\u001b[39m     \u001b[43mlogger\u001b[49m\u001b[43m.\u001b[49m\u001b[43mwarn\u001b[49m\u001b[43m(\u001b[49m\u001b[33;43mf\u001b[39;49m\u001b[33;43m\"\u001b[39;49m\u001b[33;43mOverriding environment \u001b[39;49m\u001b[38;5;132;43;01m{\u001b[39;49;00m\u001b[43mnew_spec\u001b[49m\u001b[43m.\u001b[49m\u001b[43mid\u001b[49m\u001b[38;5;132;43;01m}\u001b[39;49;00m\u001b[33;43m already in registry.\u001b[39;49m\u001b[33;43m\"\u001b[39;49m\u001b[43m)\u001b[49m\n\u001b[32m    637\u001b[39m registry[new_spec.id] = new_spec\n",
      "\u001b[36mFile \u001b[39m\u001b[32m~/miniconda3/envs/tfm/lib/python3.13/site-packages/gymnasium/logger.py:33\u001b[39m, in \u001b[36mwarn\u001b[39m\u001b[34m(msg, category, stacklevel, *args)\u001b[39m\n\u001b[32m     24\u001b[39m \u001b[38;5;250m\u001b[39m\u001b[33;03m\"\"\"Raises a warning to the user if the min_level <= WARN.\u001b[39;00m\n\u001b[32m     25\u001b[39m \n\u001b[32m     26\u001b[39m \u001b[33;03mArgs:\u001b[39;00m\n\u001b[32m   (...)\u001b[39m\u001b[32m     30\u001b[39m \u001b[33;03m    stacklevel: The stack level to raise to\u001b[39;00m\n\u001b[32m     31\u001b[39m \u001b[33;03m\"\"\"\u001b[39;00m\n\u001b[32m     32\u001b[39m \u001b[38;5;28;01mif\u001b[39;00m min_level <= WARN:\n\u001b[32m---> \u001b[39m\u001b[32m33\u001b[39m     \u001b[43mwarnings\u001b[49m\u001b[43m.\u001b[49m\u001b[43mwarn\u001b[49m\u001b[43m(\u001b[49m\n\u001b[32m     34\u001b[39m \u001b[43m        \u001b[49m\u001b[43mcolorize\u001b[49m\u001b[43m(\u001b[49m\u001b[33;43mf\u001b[39;49m\u001b[33;43m\"\u001b[39;49m\u001b[33;43mWARN: \u001b[39;49m\u001b[38;5;132;43;01m{\u001b[39;49;00m\u001b[43mmsg\u001b[49m\u001b[38;5;250;43m \u001b[39;49m\u001b[43m%\u001b[49m\u001b[38;5;250;43m \u001b[39;49m\u001b[43margs\u001b[49m\u001b[38;5;132;43;01m}\u001b[39;49;00m\u001b[33;43m\"\u001b[39;49m\u001b[43m,\u001b[49m\u001b[43m \u001b[49m\u001b[33;43m\"\u001b[39;49m\u001b[33;43myellow\u001b[39;49m\u001b[33;43m\"\u001b[39;49m\u001b[43m)\u001b[49m\u001b[43m,\u001b[49m\n\u001b[32m     35\u001b[39m \u001b[43m        \u001b[49m\u001b[43mcategory\u001b[49m\u001b[43m=\u001b[49m\u001b[43mcategory\u001b[49m\u001b[43m,\u001b[49m\n\u001b[32m     36\u001b[39m \u001b[43m        \u001b[49m\u001b[43mstacklevel\u001b[49m\u001b[43m=\u001b[49m\u001b[43mstacklevel\u001b[49m\u001b[43m \u001b[49m\u001b[43m+\u001b[49m\u001b[43m \u001b[49m\u001b[32;43m1\u001b[39;49m\u001b[43m,\u001b[49m\n\u001b[32m     37\u001b[39m \u001b[43m    \u001b[49m\u001b[43m)\u001b[49m\n",
      "\u001b[31mUserWarning\u001b[39m: \u001b[33mWARN: Overriding environment TradingEnv already in registry.\u001b[0m"
     ]
    }
   ],
   "source": [
    "from gym_trading_env.renderer import Renderer\n",
    "renderer = Renderer(render_logs_dir=\"render_logs\")\n",
    "renderer.run()"
   ]
  }
 ],
 "metadata": {
  "kernelspec": {
   "display_name": "tfm",
   "language": "python",
   "name": "python3"
  },
  "language_info": {
   "codemirror_mode": {
    "name": "ipython",
    "version": 3
   },
   "file_extension": ".py",
   "mimetype": "text/x-python",
   "name": "python",
   "nbconvert_exporter": "python",
   "pygments_lexer": "ipython3",
   "version": "3.13.5"
  }
 },
 "nbformat": 4,
 "nbformat_minor": 5
}
